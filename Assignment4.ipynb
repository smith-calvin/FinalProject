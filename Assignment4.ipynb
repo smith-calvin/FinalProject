{
 "cells": [
  {
   "cell_type": "code",
   "execution_count": 1,
   "id": "9af28271-07d6-4906-8d24-b42bea3c2826",
   "metadata": {},
   "outputs": [],
   "source": [
    "from IPython.core.interactiveshell import InteractiveShell\n",
    "InteractiveShell.ast_node_interactivity = \"all\""
   ]
  },
  {
   "cell_type": "code",
   "execution_count": 3,
   "id": "1d1d7db6-72a1-4b05-93a5-c37a7293bcff",
   "metadata": {},
   "outputs": [],
   "source": [
    "import pandas as pd\n",
    "\n",
    "celtics = pd.read_csv(\"C:/Users/scalv/OneDrive/Documents/PythonCourse/week_4/celtics_23.csv\", index_col=\"Player\")\n",
    "mavs = pd.read_csv(\"C:/Users/scalv/OneDrive/Documents/PythonCourse/week_4/mavs_23.csv\", index_col=\"Player\")\n",
    "pacers = pd.read_csv(\"C:/Users/scalv/OneDrive/Documents/PythonCourse/week_4/pacers_23.csv\", index_col=\"Player\")\n",
    "suns = pd.read_csv(\"C:/Users/scalv/OneDrive/Documents/PythonCourse/week_4/suns_23.csv\", index_col=\"Player\")\n",
    "\n",
    "dfs = [df.iloc[:-1] for df in [celtics, mavs, pacers, suns]]\n",
    "teams = pd.concat(dfs, axis = 0, ignore_index = False)\n",
    "\n",
    "teams.to_csv(\"C:/Users/scalv/OneDrive/Documents/PythonCourse/week_4/assignment4.csv\")\n",
    "\n",
    "\n"
   ]
  }
 ],
 "metadata": {
  "kernelspec": {
   "display_name": "Python [conda env:base] *",
   "language": "python",
   "name": "conda-base-py"
  },
  "language_info": {
   "codemirror_mode": {
    "name": "ipython",
    "version": 3
   },
   "file_extension": ".py",
   "mimetype": "text/x-python",
   "name": "python",
   "nbconvert_exporter": "python",
   "pygments_lexer": "ipython3",
   "version": "3.12.7"
  }
 },
 "nbformat": 4,
 "nbformat_minor": 5
}
